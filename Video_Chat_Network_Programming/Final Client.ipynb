{
 "cells": [
  {
   "cell_type": "code",
   "execution_count": null,
   "metadata": {},
   "outputs": [],
   "source": [
    "import cv2\n",
    "import socket\n",
    "import numpy\n",
    "\n",
    "s=socket.socket()\n",
    "ip = \"192.168.55.104\"\n",
    "port = 1234\n",
    "s.connect((ip,port))\n",
    "\n",
    "\n",
    "capture = cv2.VideoCapture(0)\n",
    "while True:\n",
    "    ret,myphoto=capture.read()\n",
    "    my_photo_data=cv2.imencode(\".jpg\",myphoto)[1].tobytes()\n",
    "    s.sendall(my_photo_data)\n",
    "    \n",
    "    server_data= s.recv(10000000)\n",
    "    Server_data_array=numpy.frombuffer(server_data,numpy.uint8)\n",
    "    photo=cv2.imdecode(Server_data_array,cv2.IMREAD_COLOR)\n",
    "    if type(photo) is type(None):\n",
    "        pass\n",
    "    else:\n",
    "        cv2.imshow(\"This is Server Video\",photo)\n",
    "        if cv2.waitKey(1) & 0xFF == ord('q'):\n",
    "            break\n",
    "\n",
    "cv2.destroyAllWindows()\n",
    "capture.release()"
   ]
  },
  {
   "cell_type": "code",
   "execution_count": null,
   "metadata": {},
   "outputs": [],
   "source": []
  }
 ],
 "metadata": {
  "kernelspec": {
   "display_name": "Python 3",
   "language": "python",
   "name": "python3"
  },
  "language_info": {
   "codemirror_mode": {
    "name": "ipython",
    "version": 3
   },
   "file_extension": ".py",
   "mimetype": "text/x-python",
   "name": "python",
   "nbconvert_exporter": "python",
   "pygments_lexer": "ipython3",
   "version": "3.8.3"
  }
 },
 "nbformat": 4,
 "nbformat_minor": 4
}
