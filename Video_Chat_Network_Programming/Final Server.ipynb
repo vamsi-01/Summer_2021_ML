{
 "cells": [
  {
   "cell_type": "code",
   "execution_count": 1,
   "metadata": {},
   "outputs": [],
   "source": [
    "import cv2\n",
    "import socket\n",
    "import numpy\n",
    "\n",
    "\n",
    "s = socket.socket()\n",
    "ip=\"\"\n",
    "port = 1234\n",
    "s.bind((ip,port))\n",
    "s.listen(5)\n",
    "session,addr = s.accept()\n",
    "ext_cam = \"http://192.168.55.102:4747/video\"\n",
    "capture = cv2.VideoCapture(ext_cam)\n",
    "while True:\n",
    "    client_data = session.recv(10000000)\n",
    "    client_data_array=numpy.frombuffer(client_data,numpy.uint8)\n",
    "    photo=cv2.imdecode(client_data_array,cv2.IMREAD_COLOR)\n",
    "    if type(photo) is type(None):\n",
    "        pass\n",
    "    else:\n",
    "        cv2.imshow(\"This is client video\",photo)\n",
    "        if cv2.waitKey(1) & 0xFF == ord('q'):\n",
    "            break\n",
    "    ret,myphoto=capture.read()\n",
    "    server_data=cv2.imencode(\".jpg\",myphoto)[1].tobytes()\n",
    "    session.sendall(server_data)\n",
    "cv2.destroyAllWindows()\n",
    "capture.release()"
   ]
  },
  {
   "cell_type": "code",
   "execution_count": null,
   "metadata": {},
   "outputs": [],
   "source": []
  }
 ],
 "metadata": {
  "kernelspec": {
   "display_name": "Python 3",
   "language": "python",
   "name": "python3"
  },
  "language_info": {
   "codemirror_mode": {
    "name": "ipython",
    "version": 3
   },
   "file_extension": ".py",
   "mimetype": "text/x-python",
   "name": "python",
   "nbconvert_exporter": "python",
   "pygments_lexer": "ipython3",
   "version": "3.8.3"
  }
 },
 "nbformat": 4,
 "nbformat_minor": 4
}
