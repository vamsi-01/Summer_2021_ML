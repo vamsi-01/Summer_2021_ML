{
 "cells": [
  {
   "cell_type": "code",
   "execution_count": 16,
   "metadata": {},
   "outputs": [],
   "source": [
    "#TASK4.1\n",
    "#CREATE ANY IMAGE USING THE PYTHON CODE...!!!"
   ]
  },
  {
   "cell_type": "code",
   "execution_count": null,
   "metadata": {},
   "outputs": [],
   "source": []
  },
  {
   "cell_type": "code",
   "execution_count": 17,
   "metadata": {},
   "outputs": [],
   "source": [
    "#IMPORT MODULES\n",
    "\n",
    "import numpy as np\n",
    "import cv2\n",
    "from PIL import Image, ImageDraw,ImageFont"
   ]
  },
  {
   "cell_type": "code",
   "execution_count": 18,
   "metadata": {},
   "outputs": [],
   "source": [
    "#CREATE A PLANE IMAGE WITH SOME BACKGROUND COLOR..\n",
    "\n",
    "image = Image.new('RGB', (500, 300), (0,0,0))\n",
    "draw = ImageDraw.Draw(image)\n",
    "\n",
    "#NOW USING DIFFERENT GEOMETRIC SHAPES A BASIC IMAGE HAS BEEN DRAWN HERE..\n",
    "\n",
    "draw.polygon([(300,170), (450, 170), (370,75)], fill = (205,127,50))\n",
    "draw.rectangle((300, 170, 450, 450), fill=\"green\")\n",
    "draw.ellipse((45,45,135, 135), fill=(246,246,6), outline=(128,0,0))\n",
    "draw.rectangle((350, 200, 390, 390), fill=(128,128,128))\n",
    "points = [(0, 200), (37,110),(85,175),(155,80),(205,175),(270,70),(315,140)]\n",
    "draw.line(points, width=2, fill=(150,75,0), joint=\"curve\")\n",
    "points2 = [(430,140),(475,50),(500,75)]\n",
    "draw.line(points2, width=2, fill=(150,75,0), joint=\"curve\")\n",
    "draw.rectangle((0,0,499, 298),outline=(0,0,255),width=3)\n",
    "draw.text((50,270), \" - VAMSI \", fill=(135,206,235))"
   ]
  },
  {
   "cell_type": "code",
   "execution_count": 19,
   "metadata": {},
   "outputs": [],
   "source": [
    "#DISPLAY IMAGE\n",
    "\n",
    "image.show()"
   ]
  },
  {
   "cell_type": "code",
   "execution_count": null,
   "metadata": {},
   "outputs": [],
   "source": [
    "#DONE WITH THE TASK 1..."
   ]
  },
  {
   "cell_type": "code",
   "execution_count": null,
   "metadata": {},
   "outputs": [],
   "source": []
  },
  {
   "cell_type": "code",
   "execution_count": null,
   "metadata": {},
   "outputs": [],
   "source": []
  },
  {
   "cell_type": "code",
   "execution_count": 1,
   "metadata": {},
   "outputs": [],
   "source": [
    "#TASK4.2\n",
    "#TAKE 2 IMAGES CROP SOME PART OF THEM AND SWAP THEM.."
   ]
  },
  {
   "cell_type": "code",
   "execution_count": null,
   "metadata": {},
   "outputs": [],
   "source": []
  },
  {
   "cell_type": "code",
   "execution_count": 20,
   "metadata": {},
   "outputs": [],
   "source": [
    "#READING IMAGES\n",
    "\n",
    "image1 = cv2.imread(\"spidyred.jpg\")\n",
    "image2 = cv2.imread(\"spidyblack.jpg\")"
   ]
  },
  {
   "cell_type": "code",
   "execution_count": 21,
   "metadata": {},
   "outputs": [],
   "source": [
    "#IMAGE1 DISPLAY\n",
    "\n",
    "cv2.imshow(\"im1\",image1)\n",
    "cv2.waitKey()\n",
    "cv2.destroyAllWindows()"
   ]
  },
  {
   "cell_type": "code",
   "execution_count": 22,
   "metadata": {},
   "outputs": [],
   "source": [
    "#IMAGE2 DISPLAY\n",
    "\n",
    "cv2.imshow(\"im1\",image2)\n",
    "cv2.waitKey()\n",
    "cv2.destroyAllWindows()"
   ]
  },
  {
   "cell_type": "code",
   "execution_count": 23,
   "metadata": {},
   "outputs": [],
   "source": [
    "#CROP SOME PART OF FIRST IMAGE\n",
    "\n",
    "crop1 = image1[5:180,315:435]\n",
    "cv2.imshow(\"cropn1\",crop1)\n",
    "cv2.waitKey()\n",
    "cv2.destroyAllWindows()"
   ]
  },
  {
   "cell_type": "code",
   "execution_count": 24,
   "metadata": {},
   "outputs": [],
   "source": [
    "#CROP SOME PART OF SECOND IMAGE AND DISPLAY..\n",
    "\n",
    "image1 = cv2.imread(\"spidyred.jpg\")\n",
    "image2 = cv2.imread(\"spidyblack.jpg\")\n",
    "crop2 = image2[145:320,150:270]\n",
    "cv2.imshow(\"cropn2\",crop2)\n",
    "cv2.waitKey()\n",
    "cv2.destroyAllWindows()"
   ]
  },
  {
   "cell_type": "code",
   "execution_count": 33,
   "metadata": {},
   "outputs": [
    {
     "data": {
      "text/plain": [
       "(175, 120, 3)"
      ]
     },
     "execution_count": 33,
     "metadata": {},
     "output_type": "execute_result"
    }
   ],
   "source": [
    "#BEFORE SWAP ANY PORTION OF IMAGES FROM ONE to OTHER THEY SHOULD BE OF SAME SHAPE..\n",
    "\n",
    "crop1.shape"
   ]
  },
  {
   "cell_type": "code",
   "execution_count": 34,
   "metadata": {},
   "outputs": [
    {
     "data": {
      "text/plain": [
       "(175, 120, 3)"
      ]
     },
     "execution_count": 34,
     "metadata": {},
     "output_type": "execute_result"
    }
   ],
   "source": [
    "crop2.shape"
   ]
  },
  {
   "cell_type": "code",
   "execution_count": 35,
   "metadata": {},
   "outputs": [],
   "source": [
    "#SWAPPING THE TWO CROPPED PARTS BETWEEN TWO IMAGES\n",
    "\n",
    "image1[5:180,315:435] = crop2\n",
    "image2[145:320,150:270] = crop1"
   ]
  },
  {
   "cell_type": "code",
   "execution_count": 36,
   "metadata": {},
   "outputs": [],
   "source": [
    "#NEW IMAGE1\n",
    "\n",
    "cv2.imshow(\"n1\",image1)\n",
    "cv2.waitKey()\n",
    "cv2.destroyAllWindows()"
   ]
  },
  {
   "cell_type": "code",
   "execution_count": 37,
   "metadata": {},
   "outputs": [],
   "source": [
    "#NEW IMAGE2\n",
    "\n",
    "cv2.imshow(\"n2\",image2)\n",
    "cv2.waitKey()\n",
    "cv2.destroyAllWindows()"
   ]
  },
  {
   "cell_type": "code",
   "execution_count": 38,
   "metadata": {},
   "outputs": [],
   "source": [
    "#DONE WITH THE TASK2 NOW...!!!!"
   ]
  },
  {
   "cell_type": "code",
   "execution_count": null,
   "metadata": {},
   "outputs": [],
   "source": []
  },
  {
   "cell_type": "code",
   "execution_count": null,
   "metadata": {},
   "outputs": [],
   "source": []
  },
  {
   "cell_type": "code",
   "execution_count": 588,
   "metadata": {},
   "outputs": [],
   "source": [
    "#TASK4.3\n",
    "#TAKE TWO IMAGES AND COMBINE THEM TOGETHER TO FORM A COLLAGE.."
   ]
  },
  {
   "cell_type": "code",
   "execution_count": null,
   "metadata": {},
   "outputs": [],
   "source": []
  },
  {
   "cell_type": "code",
   "execution_count": 39,
   "metadata": {},
   "outputs": [],
   "source": [
    "#READING IMAGES..\n",
    "\n",
    "image1 = cv2.imread(\"spidyred.jpg\")\n",
    "image2 = cv2.imread(\"spidyblack.jpg\")"
   ]
  },
  {
   "cell_type": "code",
   "execution_count": 40,
   "metadata": {},
   "outputs": [],
   "source": [
    "#CROPPING MY 1st IMAGE TO SOME PART..AND DISPLAY..!\n",
    "\n",
    "image1 = image1[5:300,200:550]\n",
    "cv2.imshow(\"im1\",image1)\n",
    "cv2.waitKey()\n",
    "cv2.destroyAllWindows()"
   ]
  },
  {
   "cell_type": "code",
   "execution_count": 41,
   "metadata": {},
   "outputs": [],
   "source": [
    "#CROPPING MY 2nd IMAGE TO SOME PART WHICH IS EXACTLY SAME SHAPE OF IMAGE1 Crop..\n",
    "\n",
    "image2 = image2[125:420,80:430] \n",
    "cv2.imshow(\"im2\",image2)\n",
    "cv2.waitKey()\n",
    "cv2.destroyAllWindows()"
   ]
  },
  {
   "cell_type": "code",
   "execution_count": 44,
   "metadata": {},
   "outputs": [],
   "source": [
    "#CREATE COLLAGE OF TWO IMAGES..AND DONE!!!   CREATED HORIZONTAL COLLAGE OF IMAGES>>>\n",
    "\n",
    "collage_image = np.hstack((image1,image2))\n",
    "cv2.imshow(\"Final\",collage_image)\n",
    "cv2.waitKey()\n",
    "cv2.destroyAllWindows()"
   ]
  },
  {
   "cell_type": "code",
   "execution_count": 45,
   "metadata": {},
   "outputs": [],
   "source": [
    "#LET\"S CREATE THE COLLAGE VERTICALLY...!!!!"
   ]
  },
  {
   "cell_type": "code",
   "execution_count": 46,
   "metadata": {},
   "outputs": [],
   "source": [
    "#NOW LET\"S CHECK THIS OUT....!!!\n",
    "\n",
    "collage_vertical = np.vstack((image1,image2))\n",
    "cv2.imshow(\"FinalV\",collage_vertical)\n",
    "cv2.waitKey()\n",
    "cv2.destroyAllWindows()"
   ]
  },
  {
   "cell_type": "code",
   "execution_count": 47,
   "metadata": {},
   "outputs": [],
   "source": [
    "#AND FINALLY WE ARE DONE WITH THE TASK THANK YOUUUU FOR WATCHING.....!!!!!!!!"
   ]
  },
  {
   "cell_type": "code",
   "execution_count": null,
   "metadata": {},
   "outputs": [],
   "source": []
  },
  {
   "cell_type": "code",
   "execution_count": null,
   "metadata": {},
   "outputs": [],
   "source": []
  }
 ],
 "metadata": {
  "kernelspec": {
   "display_name": "Python 3",
   "language": "python",
   "name": "python3"
  },
  "language_info": {
   "codemirror_mode": {
    "name": "ipython",
    "version": 3
   },
   "file_extension": ".py",
   "mimetype": "text/x-python",
   "name": "python",
   "nbconvert_exporter": "python",
   "pygments_lexer": "ipython3",
   "version": "3.8.3"
  }
 },
 "nbformat": 4,
 "nbformat_minor": 4
}
